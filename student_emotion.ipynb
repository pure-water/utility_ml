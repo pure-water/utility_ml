{
  "nbformat": 4,
  "nbformat_minor": 0,
  "metadata": {
    "kernelspec": {
      "language": "python",
      "display_name": "Python 3",
      "name": "python3"
    },
    "language_info": {
      "pygments_lexer": "ipython3",
      "nbconvert_exporter": "python",
      "version": "3.6.4",
      "file_extension": ".py",
      "codemirror_mode": {
        "name": "ipython",
        "version": 3
      },
      "name": "python",
      "mimetype": "text/x-python"
    },
    "colab": {
      "name": "student-emotion.ipynb",
      "provenance": [],
      "collapsed_sections": [],
      "include_colab_link": true
    },
    "accelerator": "TPU"
  },
  "cells": [
    {
      "cell_type": "markdown",
      "metadata": {
        "id": "view-in-github",
        "colab_type": "text"
      },
      "source": [
        "<a href=\"https://colab.research.google.com/github/pure-water/utility_ml/blob/master/student_emotion.ipynb\" target=\"_parent\"><img src=\"https://colab.research.google.com/assets/colab-badge.svg\" alt=\"Open In Colab\"/></a>"
      ]
    },
    {
      "cell_type": "markdown",
      "metadata": {
        "id": "R8jRD9_hIKj9"
      },
      "source": [
        " This note book is based on FIR2003 dataset and a base model (Resnet and Mobilenet) for class student detection"
      ]
    },
    {
      "cell_type": "code",
      "metadata": {
        "execution": {
          "iopub.status.busy": "2021-10-04T11:16:07.500506Z",
          "iopub.execute_input": "2021-10-04T11:16:07.501476Z",
          "iopub.status.idle": "2021-10-04T11:16:07.507384Z",
          "shell.execute_reply.started": "2021-10-04T11:16:07.501412Z",
          "shell.execute_reply": "2021-10-04T11:16:07.506369Z"
        },
        "trusted": true,
        "id": "GR3oXmESRpSp"
      },
      "source": [
        "from tensorflow import keras\n",
        "# from keras.utils import np_utils\n",
        "import matplotlib.pyplot as plt\n",
        "import numpy as np\n",
        "import tensorflow as tf\n",
        "from tensorflow.keras.layers import Conv2D, MaxPool2D, Input, UpSampling2D, Flatten, BatchNormalization, Dense, Dropout, GlobalAveragePooling2D\n",
        "from tensorflow.keras.models import Sequential\n",
        "from tensorflow.keras.optimizers import Adam"
      ],
      "execution_count": 2,
      "outputs": []
    },
    {
      "cell_type": "code",
      "metadata": {
        "_uuid": "8f2839f25d086af736a60e9eeb907d3b93b6e0e5",
        "_cell_guid": "b1076dfc-b9ad-4769-8c92-a6c4dae69d19",
        "execution": {
          "iopub.status.busy": "2021-10-04T11:16:07.151029Z",
          "iopub.execute_input": "2021-10-04T11:16:07.151334Z",
          "iopub.status.idle": "2021-10-04T11:16:07.263747Z",
          "shell.execute_reply.started": "2021-10-04T11:16:07.151304Z",
          "shell.execute_reply": "2021-10-04T11:16:07.262793Z"
        },
        "trusted": true,
        "id": "9dglKY_cRpSj"
      },
      "source": [
        "import tensorflow as tf\n",
        "import cv2\n",
        "import os\n",
        "import matplotlib.pyplot as plt\n",
        "import numpy as np\n",
        "from random import shuffle"
      ],
      "execution_count": 3,
      "outputs": []
    },
    {
      "cell_type": "code",
      "metadata": {
        "colab": {
          "base_uri": "https://localhost:8080/"
        },
        "id": "iA5NeEvBZb1i",
        "outputId": "bf0c542f-d450-4957-f375-379894a95eb2"
      },
      "source": [
        "! pip install kaggle\n",
        "! mkdir ~/.kaggle\n",
        "# Copy Twice, whatever \n",
        "! cp /kaggle.json ~/.kaggle/\n",
        "! cp /content/kaggle.json ~/.kaggle/\n",
        "! chmod 600 ~/.kaggle/kaggle.json\n",
        "! ls ~/\n"
      ],
      "execution_count": 4,
      "outputs": [
        {
          "output_type": "stream",
          "name": "stdout",
          "text": [
            "Requirement already satisfied: kaggle in /usr/local/lib/python3.7/dist-packages (1.5.12)\n",
            "Requirement already satisfied: python-dateutil in /usr/local/lib/python3.7/dist-packages (from kaggle) (2.8.2)\n",
            "Requirement already satisfied: python-slugify in /usr/local/lib/python3.7/dist-packages (from kaggle) (5.0.2)\n",
            "Requirement already satisfied: certifi in /usr/local/lib/python3.7/dist-packages (from kaggle) (2021.5.30)\n",
            "Requirement already satisfied: six>=1.10 in /usr/local/lib/python3.7/dist-packages (from kaggle) (1.15.0)\n",
            "Requirement already satisfied: tqdm in /usr/local/lib/python3.7/dist-packages (from kaggle) (4.62.3)\n",
            "Requirement already satisfied: urllib3 in /usr/local/lib/python3.7/dist-packages (from kaggle) (1.24.3)\n",
            "Requirement already satisfied: requests in /usr/local/lib/python3.7/dist-packages (from kaggle) (2.23.0)\n",
            "Requirement already satisfied: text-unidecode>=1.3 in /usr/local/lib/python3.7/dist-packages (from python-slugify->kaggle) (1.3)\n",
            "Requirement already satisfied: chardet<4,>=3.0.2 in /usr/local/lib/python3.7/dist-packages (from requests->kaggle) (3.0.4)\n",
            "Requirement already satisfied: idna<3,>=2.5 in /usr/local/lib/python3.7/dist-packages (from requests->kaggle) (2.10)\n",
            "cp: cannot stat '/kaggle.json': No such file or directory\n",
            "cp: cannot stat '/content/kaggle.json': No such file or directory\n",
            "chmod: cannot access '/root/.kaggle/kaggle.json': No such file or directory\n"
          ]
        }
      ]
    },
    {
      "cell_type": "markdown",
      "metadata": {
        "id": "NuKH0xG9bO-5"
      },
      "source": [
        ""
      ]
    },
    {
      "cell_type": "code",
      "metadata": {
        "colab": {
          "base_uri": "https://localhost:8080/"
        },
        "id": "izKaoILYaAuM",
        "outputId": "2f1a7cce-0026-4669-a5bc-f153d8a12609"
      },
      "source": [
        "!kaggle datasets download  msambare/fer2013"
      ],
      "execution_count": 5,
      "outputs": [
        {
          "output_type": "stream",
          "name": "stdout",
          "text": [
            "Traceback (most recent call last):\n",
            "  File \"/usr/local/bin/kaggle\", line 5, in <module>\n",
            "    from kaggle.cli import main\n",
            "  File \"/usr/local/lib/python2.7/dist-packages/kaggle/__init__.py\", line 23, in <module>\n",
            "    api.authenticate()\n",
            "  File \"/usr/local/lib/python2.7/dist-packages/kaggle/api/kaggle_api_extended.py\", line 146, in authenticate\n",
            "    self.config_file, self.config_dir))\n",
            "IOError: Could not find kaggle.json. Make sure it's located in /root/.kaggle. Or use the environment method.\n"
          ]
        }
      ]
    },
    {
      "cell_type": "code",
      "metadata": {
        "colab": {
          "base_uri": "https://localhost:8080/"
        },
        "id": "hhO1RpTPbRI1",
        "outputId": "88906e45-3b3b-4789-b050-a80d4aa0a905"
      },
      "source": [
        "!unzip fer2013"
      ],
      "execution_count": 6,
      "outputs": [
        {
          "output_type": "stream",
          "name": "stdout",
          "text": [
            "unzip:  cannot find or open fer2013, fer2013.zip or fer2013.ZIP.\n"
          ]
        }
      ]
    },
    {
      "cell_type": "code",
      "metadata": {
        "execution": {
          "iopub.status.busy": "2021-10-04T11:16:15.569206Z",
          "iopub.execute_input": "2021-10-04T11:16:15.570018Z",
          "iopub.status.idle": "2021-10-04T11:18:29.588975Z",
          "shell.execute_reply.started": "2021-10-04T11:16:15.569973Z",
          "shell.execute_reply": "2021-10-04T11:18:29.585621Z"
        },
        "trusted": true,
        "colab": {
          "base_uri": "https://localhost:8080/",
          "height": 369
        },
        "id": "XfmigOMbRpSr",
        "outputId": "d661860c-495b-4472-cf8a-75e73e81bf32"
      },
      "source": [
        "classes_num = 7\n",
        "classes = ['angry', 'disgust', 'fear', 'happy', 'neutral', 'sad', 'surprise']\n",
        "\n",
        "#YaoGang Colab Setup\n",
        "Train_DIR = \"/content/train\"\n",
        "Test_DIR = \"/content/test\"\n",
        "\n",
        "\n",
        "#leagacy setup\n",
        "##Train_DIR = \"../input/fer2013/train\"\n",
        "##Test_DIR = \"/content/test\"\n",
        "\n",
        "# one-hot:\n",
        "def label_img(category):\n",
        "    arr = np.zeros((classes_num,), dtype = int)\n",
        "    arr[classes.index(category), ] = 1\n",
        "    return arr\n",
        "\n",
        "# Datasets:\n",
        "\n",
        "img_size = 224\n",
        "train = []\n",
        "test = []\n",
        "def create_train_set(img_size):\n",
        "    for category in classes:\n",
        "        imgs = 0\n",
        "        category_path = os.path.join(Train_DIR, category)\n",
        "        label = label_img(category)\n",
        "        for img in os.listdir(category_path):\n",
        "            imgs = imgs + 1\n",
        "            if imgs == 4000:\n",
        "                break\n",
        "            img_array = cv2.resize(cv2.imread(os.path.join(category_path, img)), (img_size, img_size))\n",
        "            train.append([np.array(img_array), np.array(label)])\n",
        "\n",
        "create_train_set(img_size)\n",
        "train = np.array(train)\n",
        "test  = np.array(test)\n",
        "shuffle(train)\n",
        "\n",
        "print(\"Train shape\",train.shape)\n",
        "print(\"Test shape\",test.shape)"
      ],
      "execution_count": 8,
      "outputs": [
        {
          "output_type": "error",
          "ename": "FileNotFoundError",
          "evalue": "ignored",
          "traceback": [
            "\u001b[0;31m---------------------------------------------------------------------------\u001b[0m",
            "\u001b[0;31mFileNotFoundError\u001b[0m                         Traceback (most recent call last)",
            "\u001b[0;32m<ipython-input-8-ab0e7f8e1fb7>\u001b[0m in \u001b[0;36m<module>\u001b[0;34m()\u001b[0m\n\u001b[1;32m     34\u001b[0m             \u001b[0mtrain\u001b[0m\u001b[0;34m.\u001b[0m\u001b[0mappend\u001b[0m\u001b[0;34m(\u001b[0m\u001b[0;34m[\u001b[0m\u001b[0mnp\u001b[0m\u001b[0;34m.\u001b[0m\u001b[0marray\u001b[0m\u001b[0;34m(\u001b[0m\u001b[0mimg_array\u001b[0m\u001b[0;34m)\u001b[0m\u001b[0;34m,\u001b[0m \u001b[0mnp\u001b[0m\u001b[0;34m.\u001b[0m\u001b[0marray\u001b[0m\u001b[0;34m(\u001b[0m\u001b[0mlabel\u001b[0m\u001b[0;34m)\u001b[0m\u001b[0;34m]\u001b[0m\u001b[0;34m)\u001b[0m\u001b[0;34m\u001b[0m\u001b[0;34m\u001b[0m\u001b[0m\n\u001b[1;32m     35\u001b[0m \u001b[0;34m\u001b[0m\u001b[0m\n\u001b[0;32m---> 36\u001b[0;31m \u001b[0mcreate_train_set\u001b[0m\u001b[0;34m(\u001b[0m\u001b[0mimg_size\u001b[0m\u001b[0;34m)\u001b[0m\u001b[0;34m\u001b[0m\u001b[0;34m\u001b[0m\u001b[0m\n\u001b[0m\u001b[1;32m     37\u001b[0m \u001b[0mtrain\u001b[0m \u001b[0;34m=\u001b[0m \u001b[0mnp\u001b[0m\u001b[0;34m.\u001b[0m\u001b[0marray\u001b[0m\u001b[0;34m(\u001b[0m\u001b[0mtrain\u001b[0m\u001b[0;34m)\u001b[0m\u001b[0;34m\u001b[0m\u001b[0;34m\u001b[0m\u001b[0m\n\u001b[1;32m     38\u001b[0m \u001b[0mtest\u001b[0m  \u001b[0;34m=\u001b[0m \u001b[0mnp\u001b[0m\u001b[0;34m.\u001b[0m\u001b[0marray\u001b[0m\u001b[0;34m(\u001b[0m\u001b[0mtest\u001b[0m\u001b[0;34m)\u001b[0m\u001b[0;34m\u001b[0m\u001b[0;34m\u001b[0m\u001b[0m\n",
            "\u001b[0;32m<ipython-input-8-ab0e7f8e1fb7>\u001b[0m in \u001b[0;36mcreate_train_set\u001b[0;34m(img_size)\u001b[0m\n\u001b[1;32m     27\u001b[0m         \u001b[0mcategory_path\u001b[0m \u001b[0;34m=\u001b[0m \u001b[0mos\u001b[0m\u001b[0;34m.\u001b[0m\u001b[0mpath\u001b[0m\u001b[0;34m.\u001b[0m\u001b[0mjoin\u001b[0m\u001b[0;34m(\u001b[0m\u001b[0mTrain_DIR\u001b[0m\u001b[0;34m,\u001b[0m \u001b[0mcategory\u001b[0m\u001b[0;34m)\u001b[0m\u001b[0;34m\u001b[0m\u001b[0;34m\u001b[0m\u001b[0m\n\u001b[1;32m     28\u001b[0m         \u001b[0mlabel\u001b[0m \u001b[0;34m=\u001b[0m \u001b[0mlabel_img\u001b[0m\u001b[0;34m(\u001b[0m\u001b[0mcategory\u001b[0m\u001b[0;34m)\u001b[0m\u001b[0;34m\u001b[0m\u001b[0;34m\u001b[0m\u001b[0m\n\u001b[0;32m---> 29\u001b[0;31m         \u001b[0;32mfor\u001b[0m \u001b[0mimg\u001b[0m \u001b[0;32min\u001b[0m \u001b[0mos\u001b[0m\u001b[0;34m.\u001b[0m\u001b[0mlistdir\u001b[0m\u001b[0;34m(\u001b[0m\u001b[0mcategory_path\u001b[0m\u001b[0;34m)\u001b[0m\u001b[0;34m:\u001b[0m\u001b[0;34m\u001b[0m\u001b[0;34m\u001b[0m\u001b[0m\n\u001b[0m\u001b[1;32m     30\u001b[0m             \u001b[0mimgs\u001b[0m \u001b[0;34m=\u001b[0m \u001b[0mimgs\u001b[0m \u001b[0;34m+\u001b[0m \u001b[0;36m1\u001b[0m\u001b[0;34m\u001b[0m\u001b[0;34m\u001b[0m\u001b[0m\n\u001b[1;32m     31\u001b[0m             \u001b[0;32mif\u001b[0m \u001b[0mimgs\u001b[0m \u001b[0;34m==\u001b[0m \u001b[0;36m4000\u001b[0m\u001b[0;34m:\u001b[0m\u001b[0;34m\u001b[0m\u001b[0;34m\u001b[0m\u001b[0m\n",
            "\u001b[0;31mFileNotFoundError\u001b[0m: [Errno 2] No such file or directory: '/content/train/angry'"
          ]
        }
      ]
    },
    {
      "cell_type": "code",
      "metadata": {
        "id": "hAcB_wfkg3zL"
      },
      "source": [
        "def plot_images(img_dir, top=10):\n",
        "    all_img_dirs = os.listdir(img_dir)\n",
        "    img_files = [os.path.join(img_dir, file) for file in all_img_dirs][:5]\n",
        "  \n",
        "    plt.figure(figsize=(10, 10))\n",
        "  \n",
        "    for idx, img_path in enumerate(img_files):\n",
        "        plt.subplot(5, 5, idx+1)\n",
        "        img = plt.imread(img_path)\n",
        "        plt.tight_layout()         \n",
        "        plt.imshow(img, cmap='gray') "
      ],
      "execution_count": null,
      "outputs": []
    },
    {
      "cell_type": "code",
      "metadata": {
        "id": "BN54-z_Vhf-g"
      },
      "source": [
        "plot_images('train'+'/angry')\n"
      ],
      "execution_count": null,
      "outputs": []
    },
    {
      "cell_type": "code",
      "metadata": {
        "id": "RMHEoF9ihq-K"
      },
      "source": [
        "plot_images('train'+'/happy')"
      ],
      "execution_count": null,
      "outputs": []
    },
    {
      "cell_type": "code",
      "metadata": {
        "id": "Uo9QlH2_rj0r"
      },
      "source": [
        "plot_images('train'+'/neutral')"
      ],
      "execution_count": null,
      "outputs": []
    },
    {
      "cell_type": "code",
      "metadata": {
        "execution": {
          "iopub.status.busy": "2021-10-04T11:18:29.590838Z",
          "iopub.execute_input": "2021-10-04T11:18:29.591205Z",
          "iopub.status.idle": "2021-10-04T11:18:29.595576Z",
          "shell.execute_reply.started": "2021-10-04T11:18:29.591164Z",
          "shell.execute_reply": "2021-10-04T11:18:29.594689Z"
        },
        "trusted": true,
        "id": "9sS91PeaRpSs"
      },
      "source": [
        "# CREATING VALIDATION SET FROM A SUBSET OF TRAINING SET:\n",
        "\n",
        "# valTOtrain_split_ratio = 0.2  # (val / total)\n",
        "# num = int(((1 - valTOtrain_split_ratio)*train.shape[0]))\n",
        "# train_set = train[:num]\n",
        "# val_set = train[num:]"
      ],
      "execution_count": null,
      "outputs": []
    },
    {
      "cell_type": "code",
      "metadata": {
        "execution": {
          "iopub.status.busy": "2021-10-04T11:19:05.731407Z",
          "iopub.execute_input": "2021-10-04T11:19:05.73167Z",
          "iopub.status.idle": "2021-10-04T11:19:07.094931Z",
          "shell.execute_reply.started": "2021-10-04T11:19:05.73164Z",
          "shell.execute_reply": "2021-10-04T11:19:07.094096Z"
        },
        "trusted": true,
        "id": "Zn-CGeX0RpSt"
      },
      "source": [
        "import gc\n",
        "split = train.shape[0]*0.8\n",
        "print(\"split threshold\", split)\n",
        "X_train = np.array([i[0] for i in train[:split]]).reshape(-1, img_size, img_size, 3)\n",
        "y_train = np.array([i[1] for i in train[:split]])\n",
        "\n",
        "print(X_train.shape)\n",
        "print(y_train.shape)\n",
        "\n",
        "X_val = np.array([i[0] for i in train[split:]]).reshape(-1, img_size, img_size, 3)\n",
        "y_val = np.array([i[1] for i in train[split:]])\n",
        "\n",
        "print(X_val.shape)\n",
        "print(y_val.shape)\n",
        "\n",
        "del train\n",
        "gc.collect()"
      ],
      "execution_count": null,
      "outputs": []
    },
    {
      "cell_type": "code",
      "metadata": {
        "execution": {
          "iopub.status.busy": "2021-10-04T11:19:44.621267Z",
          "iopub.execute_input": "2021-10-04T11:19:44.621833Z",
          "iopub.status.idle": "2021-10-04T11:19:44.627435Z",
          "shell.execute_reply.started": "2021-10-04T11:19:44.621796Z",
          "shell.execute_reply": "2021-10-04T11:19:44.626436Z"
        },
        "trusted": true,
        "id": "KrG6Oi1nRpSu"
      },
      "source": [
        "from tensorflow.keras.layers import Conv2D, MaxPool2D, Input, UpSampling2D, Flatten, BatchNormalization, Dense, Dropout, GlobalAveragePooling2D\n",
        "from tensorflow.keras.models import Sequential\n",
        "from tensorflow.keras.optimizers import Adam\n",
        "from tensorflow import keras "
      ],
      "execution_count": null,
      "outputs": []
    },
    {
      "cell_type": "code",
      "metadata": {
        "execution": {
          "iopub.status.busy": "2021-10-04T11:16:08.205579Z",
          "iopub.execute_input": "2021-10-04T11:16:08.206155Z",
          "iopub.status.idle": "2021-10-04T11:16:10.784271Z",
          "shell.execute_reply.started": "2021-10-04T11:16:08.206116Z",
          "shell.execute_reply": "2021-10-04T11:16:10.783489Z"
        },
        "trusted": true,
        "id": "i9myFY5YRpSq"
      },
      "source": [
        "# We shall not build a new model from scratch, rather we will use transfer learning:\n",
        "\n",
        "img_size = 224\n",
        "classes_num = 7\n",
        "from tensorflow.keras.applications.resnet50 import ResNet50\n",
        "import tensorflow.keras.applications\n",
        "\n",
        "resnet_model = ResNet50(input_shape=(img_size, img_size, 3), include_top=False, weights='imagenet')\n",
        "mobilenet_model = tf.keras.applications.MobileNetV2(input_shape=(img_size, img_size, 3), include_top=False, weights='imagenet')"
      ],
      "execution_count": null,
      "outputs": []
    },
    {
      "cell_type": "code",
      "metadata": {
        "id": "i_US2ExABXMt"
      },
      "source": [
        "for layers in mobilenet_model.layers: \n",
        "  layers.trainable = False"
      ],
      "execution_count": null,
      "outputs": []
    },
    {
      "cell_type": "code",
      "metadata": {
        "execution": {
          "iopub.status.busy": "2021-10-04T11:35:01.246569Z",
          "iopub.execute_input": "2021-10-04T11:35:01.246852Z",
          "iopub.status.idle": "2021-10-04T11:35:01.623473Z",
          "shell.execute_reply.started": "2021-10-04T11:35:01.246821Z",
          "shell.execute_reply": "2021-10-04T11:35:01.622603Z"
        },
        "trusted": true,
        "id": "wFhXusFXRpSw"
      },
      "source": [
        "# Model1 using the mobile_net as the base model\n",
        "\n",
        "model2 = Sequential()\n",
        "model2.add(mobilenet_model)\n",
        "\n",
        "model2.add(Flatten())\n",
        "model2.add(BatchNormalization())\n",
        "model2.add(Dense(256, activation='relu'))\n",
        "model2.add(Dense(classes_num, activation='softmax'))\n",
        "\n",
        "model2.summary()"
      ],
      "execution_count": null,
      "outputs": []
    },
    {
      "cell_type": "code",
      "metadata": {
        "id": "gLSJNvqWqEHE"
      },
      "source": [
        "checkpoint_path= './'\n",
        "callback=tf.keras.callbacks.ModelCheckpoint(\n",
        "     checkpoint_path, verbose=1, save_weights_only=True,\n",
        "    period=5\n",
        ")"
      ],
      "execution_count": null,
      "outputs": []
    },
    {
      "cell_type": "code",
      "metadata": {
        "execution": {
          "iopub.status.busy": "2021-10-04T13:08:02.006603Z",
          "iopub.execute_input": "2021-10-04T13:08:02.006892Z",
          "iopub.status.idle": "2021-10-04T13:41:47.875581Z",
          "shell.execute_reply.started": "2021-10-04T13:08:02.006861Z",
          "shell.execute_reply": "2021-10-04T13:41:47.874823Z"
        },
        "trusted": true,
        "id": "5MqbYqI4RpSx"
      },
      "source": [
        "model2.compile(optimizer=Adam(learning_rate=0.0003),loss='categorical_crossentropy',metrics=['accuracy'])\n",
        "history2 = model2.fit(X_train, y_train, batch_size = 64, epochs=18, validation_data=(X_val, y_val))"
      ],
      "execution_count": null,
      "outputs": []
    },
    {
      "cell_type": "code",
      "metadata": {
        "execution": {
          "iopub.status.busy": "2021-10-04T13:41:47.879436Z",
          "iopub.execute_input": "2021-10-04T13:41:47.879702Z",
          "iopub.status.idle": "2021-10-04T13:41:48.048945Z",
          "shell.execute_reply.started": "2021-10-04T13:41:47.87967Z",
          "shell.execute_reply": "2021-10-04T13:41:48.048214Z"
        },
        "trusted": true,
        "id": "1ZnZHxXdRpSy"
      },
      "source": [
        "from google.colab import files\n",
        "model_file = \"model_mobilenet_input_224.h5\"\n",
        "model2.save_weights(model_file)\n",
        "files.download(model_file)"
      ],
      "execution_count": null,
      "outputs": []
    },
    {
      "cell_type": "code",
      "metadata": {
        "execution": {
          "iopub.status.busy": "2021-10-04T13:41:48.050477Z",
          "iopub.execute_input": "2021-10-04T13:41:48.050742Z",
          "iopub.status.idle": "2021-10-04T13:41:48.256895Z",
          "shell.execute_reply.started": "2021-10-04T13:41:48.050706Z",
          "shell.execute_reply": "2021-10-04T13:41:48.256249Z"
        },
        "trusted": true,
        "id": "BLXwDxtmRpSz"
      },
      "source": [
        "plt.plot(history2.history['accuracy'])\n",
        "plt.plot(history2.history['val_accuracy'])\n",
        "plt.title('model accuracy')\n",
        "plt.ylabel('accuracy')\n",
        "plt.xlabel('epoch')\n",
        "plt.legend(['train', 'val'], loc='upper left')\n",
        "plt.show()"
      ],
      "execution_count": null,
      "outputs": []
    },
    {
      "cell_type": "code",
      "metadata": {
        "execution": {
          "iopub.status.busy": "2021-10-04T13:41:48.258656Z",
          "iopub.execute_input": "2021-10-04T13:41:48.258912Z",
          "iopub.status.idle": "2021-10-04T13:41:48.461176Z",
          "shell.execute_reply.started": "2021-10-04T13:41:48.258875Z",
          "shell.execute_reply": "2021-10-04T13:41:48.460479Z"
        },
        "trusted": true,
        "id": "63VuEt4aRpSz"
      },
      "source": [
        "plt.plot(history2.history['loss'])\n",
        "plt.plot(history2.history['val_loss'])\n",
        "plt.title('model loss')\n",
        "plt.ylabel('loss')\n",
        "plt.xlabel('epoch')\n",
        "plt.legend(['train', 'val'], loc='upper left')\n",
        "plt.show()"
      ],
      "execution_count": null,
      "outputs": []
    },
    {
      "cell_type": "code",
      "metadata": {
        "execution": {
          "iopub.status.busy": "2021-10-04T07:36:10.060478Z",
          "iopub.execute_input": "2021-10-04T07:36:10.061085Z",
          "iopub.status.idle": "2021-10-04T07:36:36.247908Z",
          "shell.execute_reply.started": "2021-10-04T07:36:10.061047Z",
          "shell.execute_reply": "2021-10-04T07:36:36.247089Z"
        },
        "trusted": true,
        "id": "ZXCoW4IuRpS0"
      },
      "source": [
        "model2.save(\"model_mobilenet_input_224\")"
      ],
      "execution_count": null,
      "outputs": []
    },
    {
      "cell_type": "code",
      "metadata": {
        "execution": {
          "iopub.status.busy": "2021-10-04T07:52:07.221087Z",
          "iopub.execute_input": "2021-10-04T07:52:07.22138Z",
          "iopub.status.idle": "2021-10-04T07:52:09.074434Z",
          "shell.execute_reply.started": "2021-10-04T07:52:07.221349Z",
          "shell.execute_reply": "2021-10-04T07:52:09.073703Z"
        },
        "trusted": true,
        "id": "LGo37m_sRpS0"
      },
      "source": [
        "import shutil\n",
        "shutil.make_archive(\"model_mobilenet\", 'zip', \"./model_mobilenet_input_224\")"
      ],
      "execution_count": null,
      "outputs": []
    },
    {
      "cell_type": "code",
      "metadata": {
        "execution": {
          "iopub.status.busy": "2021-10-04T15:30:59.33497Z",
          "iopub.execute_input": "2021-10-04T15:30:59.335691Z",
          "iopub.status.idle": "2021-10-04T15:30:59.741484Z",
          "shell.execute_reply.started": "2021-10-04T15:30:59.335652Z",
          "shell.execute_reply": "2021-10-04T15:30:59.740772Z"
        },
        "trusted": true,
        "id": "5KImznt2RpS1"
      },
      "source": [
        "# Model1 using the resnet_model as the base model and fine tuning it\n",
        "\n",
        "for layer in resnet_model.layers:\n",
        "   layer.trainable = False\n",
        "for layer in resnet_model.layers[-75:]:\n",
        "   layer.trainable = True\n",
        "\n",
        "# **IMPORTANT**\n",
        "# let's visualize layer names and layer indices to see how many layers we should freeze:\n",
        "# for i, layer in enumerate(resnet_model.layers):\n",
        "#    print(i, layer.name)\n",
        "\n",
        "model1 = Sequential()\n",
        "model1.add(resnet_model)\n",
        "\n",
        "model1.add(Flatten())\n",
        "model1.add(BatchNormalization())\n",
        "\n",
        "model1.add(Dense(classes_num, activation='softmax'))\n",
        "\n",
        "model1.summary()"
      ],
      "execution_count": null,
      "outputs": []
    },
    {
      "cell_type": "code",
      "metadata": {
        "execution": {
          "iopub.status.busy": "2021-10-04T15:31:06.225614Z",
          "iopub.execute_input": "2021-10-04T15:31:06.226412Z",
          "iopub.status.idle": "2021-10-04T15:54:41.771014Z",
          "shell.execute_reply.started": "2021-10-04T15:31:06.226364Z",
          "shell.execute_reply": "2021-10-04T15:54:41.770222Z"
        },
        "trusted": true,
        "id": "CcBtOStpRpS1"
      },
      "source": [
        "model1.compile(optimizer=Adam(learning_rate=0.0003),loss='categorical_crossentropy',metrics=['accuracy'])\n",
        "history1 = model1.fit(X_train, y_train, batch_size = 64, epochs=25, validation_data=(X_val, y_val))"
      ],
      "execution_count": null,
      "outputs": []
    },
    {
      "cell_type": "code",
      "metadata": {
        "execution": {
          "iopub.status.busy": "2021-10-04T15:54:41.772965Z",
          "iopub.execute_input": "2021-10-04T15:54:41.773569Z",
          "iopub.status.idle": "2021-10-04T15:54:42.160989Z",
          "shell.execute_reply.started": "2021-10-04T15:54:41.773526Z",
          "shell.execute_reply": "2021-10-04T15:54:42.160279Z"
        },
        "trusted": true,
        "id": "NOmUf73ZRpS2"
      },
      "source": [
        "model1.save_weights(\"model_resnet_FineTuned_25ep.h5\")"
      ],
      "execution_count": null,
      "outputs": []
    },
    {
      "cell_type": "code",
      "metadata": {
        "execution": {
          "iopub.status.busy": "2021-10-04T08:47:16.250863Z",
          "iopub.execute_input": "2021-10-04T08:47:16.251379Z",
          "iopub.status.idle": "2021-10-04T08:47:26.681974Z",
          "shell.execute_reply.started": "2021-10-04T08:47:16.251342Z",
          "shell.execute_reply": "2021-10-04T08:47:26.681299Z"
        },
        "trusted": true,
        "id": "HNW-XT0qRpS2"
      },
      "source": [
        "# import shutil\n",
        "# shutil.make_archive(\"model_resnet_FineTuned\", 'zip', \"./model_resntnet_FineTuned\")"
      ],
      "execution_count": null,
      "outputs": []
    },
    {
      "cell_type": "code",
      "metadata": {
        "execution": {
          "iopub.status.busy": "2021-10-04T15:59:24.860658Z",
          "iopub.execute_input": "2021-10-04T15:59:24.861418Z",
          "iopub.status.idle": "2021-10-04T15:59:25.067419Z",
          "shell.execute_reply.started": "2021-10-04T15:59:24.861381Z",
          "shell.execute_reply": "2021-10-04T15:59:25.066661Z"
        },
        "trusted": true,
        "id": "on6kak_sRpS3"
      },
      "source": [
        "plt.plot(history1.history['accuracy'])\n",
        "plt.plot(history1.history['val_accuracy'])\n",
        "plt.title('model accuracy')\n",
        "plt.ylabel('accuracy')\n",
        "plt.xlabel('epoch')\n",
        "plt.legend(['train', 'val'], loc='upper left')\n",
        "plt.show()"
      ],
      "execution_count": null,
      "outputs": []
    },
    {
      "cell_type": "code",
      "metadata": {
        "execution": {
          "iopub.status.busy": "2021-10-04T15:59:25.669715Z",
          "iopub.execute_input": "2021-10-04T15:59:25.670223Z",
          "iopub.status.idle": "2021-10-04T15:59:25.866746Z",
          "shell.execute_reply.started": "2021-10-04T15:59:25.670187Z",
          "shell.execute_reply": "2021-10-04T15:59:25.865924Z"
        },
        "trusted": true,
        "id": "C3vYz1rVRpS3"
      },
      "source": [
        "plt.plot(history1.history['loss'])\n",
        "plt.plot(history1.history['val_loss'])\n",
        "plt.title('model loss')\n",
        "plt.ylabel('loss')\n",
        "plt.xlabel('epoch')\n",
        "plt.legend(['train', 'val'], loc='upper left')\n",
        "plt.show()"
      ],
      "execution_count": null,
      "outputs": []
    },
    {
      "cell_type": "code",
      "metadata": {
        "id": "V0rc2cy1RpS4"
      },
      "source": [
        ""
      ],
      "execution_count": null,
      "outputs": []
    }
  ]
}